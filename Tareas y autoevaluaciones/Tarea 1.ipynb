{
 "cells": [
  {
   "cell_type": "markdown",
   "metadata": {},
   "source": [
    "# Tarea 1 - Pandas y Matplotlib\n",
    "\n",
    "- Utilizando los datos de exoplanetas de la Sesión 2, haga lo siguiente\n",
    "1. Cree un nuevo dataframe\n",
    "2. Utilice el groupby para agrupar los planetas por su método de descubrimiento.\n",
    "3. Utilizando un groupby().agg(), agrupe los planetas por su método de descubrimiento, y agreguelos por sus masas.\n",
    "4. Cree un gráfico de barras donde cada barra sea uno de los métodos de descubrimiento, y el eje y sea el total de las masas de los planetas descubiertos por ese método."
   ]
  },
  {
   "cell_type": "markdown",
   "metadata": {},
   "source": [
    "<img src='Tarea1-1.png' width=300>"
   ]
  },
  {
   "cell_type": "markdown",
   "metadata": {},
   "source": [
    "<img src='Tarea1-2.png' width=300>"
   ]
  },
  {
   "cell_type": "code",
   "execution_count": 2,
   "metadata": {},
   "outputs": [
    {
     "data": {
      "text/html": [
       "<div>\n",
       "<style scoped>\n",
       "    .dataframe tbody tr th:only-of-type {\n",
       "        vertical-align: middle;\n",
       "    }\n",
       "\n",
       "    .dataframe tbody tr th {\n",
       "        vertical-align: top;\n",
       "    }\n",
       "\n",
       "    .dataframe thead th {\n",
       "        text-align: right;\n",
       "    }\n",
       "</style>\n",
       "<table border=\"1\" class=\"dataframe\">\n",
       "  <thead>\n",
       "    <tr style=\"text-align: right;\">\n",
       "      <th></th>\n",
       "      <th>PlanetIdentifier</th>\n",
       "      <th>TypeFlag</th>\n",
       "      <th>PlanetaryMassJpt</th>\n",
       "      <th>RadiusJpt</th>\n",
       "      <th>PeriodDays</th>\n",
       "      <th>SemiMajorAxisAU</th>\n",
       "      <th>Eccentricity</th>\n",
       "      <th>PeriastronDeg</th>\n",
       "      <th>LongitudeDeg</th>\n",
       "      <th>AscendingNodeDeg</th>\n",
       "      <th>InclinationDeg</th>\n",
       "      <th>SurfaceTempK</th>\n",
       "      <th>AgeGyr</th>\n",
       "      <th>DiscoveryMethod</th>\n",
       "      <th>DiscoveryYear</th>\n",
       "      <th>LastUpdated</th>\n",
       "      <th>RightAscension</th>\n",
       "      <th>Declination</th>\n",
       "      <th>DistFromSunParsec</th>\n",
       "      <th>HostStarMassSlrMass</th>\n",
       "      <th>HostStarRadiusSlrRad</th>\n",
       "      <th>HostStarMetallicity</th>\n",
       "      <th>HostStarTempK</th>\n",
       "      <th>HostStarAgeGyr</th>\n",
       "      <th>ListsPlanetIsOn</th>\n",
       "    </tr>\n",
       "  </thead>\n",
       "  <tbody>\n",
       "    <tr>\n",
       "      <th>0</th>\n",
       "      <td>HD 143761 b</td>\n",
       "      <td>0</td>\n",
       "      <td>1.0450</td>\n",
       "      <td>NaN</td>\n",
       "      <td>39.845800</td>\n",
       "      <td>0.2196</td>\n",
       "      <td>0.037</td>\n",
       "      <td>270.6</td>\n",
       "      <td>NaN</td>\n",
       "      <td>NaN</td>\n",
       "      <td>NaN</td>\n",
       "      <td>NaN</td>\n",
       "      <td>NaN</td>\n",
       "      <td>RV</td>\n",
       "      <td>2016.0</td>\n",
       "      <td>16/07/11</td>\n",
       "      <td>16 01 03</td>\n",
       "      <td>+33 18 13</td>\n",
       "      <td>17.236</td>\n",
       "      <td>0.889</td>\n",
       "      <td>1.362</td>\n",
       "      <td>-0.31</td>\n",
       "      <td>5627.0</td>\n",
       "      <td>NaN</td>\n",
       "      <td>Confirmed planets</td>\n",
       "    </tr>\n",
       "    <tr>\n",
       "      <th>1</th>\n",
       "      <td>HD 143761 c</td>\n",
       "      <td>0</td>\n",
       "      <td>0.0790</td>\n",
       "      <td>NaN</td>\n",
       "      <td>102.540000</td>\n",
       "      <td>0.4123</td>\n",
       "      <td>0.050</td>\n",
       "      <td>190.0</td>\n",
       "      <td>NaN</td>\n",
       "      <td>NaN</td>\n",
       "      <td>NaN</td>\n",
       "      <td>NaN</td>\n",
       "      <td>NaN</td>\n",
       "      <td>RV</td>\n",
       "      <td>2016.0</td>\n",
       "      <td>16/07/11</td>\n",
       "      <td>16 01 03</td>\n",
       "      <td>+33 18 13</td>\n",
       "      <td>17.236</td>\n",
       "      <td>0.889</td>\n",
       "      <td>1.362</td>\n",
       "      <td>-0.31</td>\n",
       "      <td>5627.0</td>\n",
       "      <td>NaN</td>\n",
       "      <td>Confirmed planets</td>\n",
       "    </tr>\n",
       "    <tr>\n",
       "      <th>2</th>\n",
       "      <td>KOI-1843.03</td>\n",
       "      <td>0</td>\n",
       "      <td>0.0014</td>\n",
       "      <td>0.054</td>\n",
       "      <td>0.176891</td>\n",
       "      <td>0.0048</td>\n",
       "      <td>NaN</td>\n",
       "      <td>NaN</td>\n",
       "      <td>NaN</td>\n",
       "      <td>NaN</td>\n",
       "      <td>72.00</td>\n",
       "      <td>NaN</td>\n",
       "      <td>NaN</td>\n",
       "      <td>transit</td>\n",
       "      <td>2012.0</td>\n",
       "      <td>13/07/15</td>\n",
       "      <td>19 00 03.14</td>\n",
       "      <td>+40 13 14.7</td>\n",
       "      <td>NaN</td>\n",
       "      <td>0.460</td>\n",
       "      <td>0.450</td>\n",
       "      <td>0.00</td>\n",
       "      <td>3584.0</td>\n",
       "      <td>NaN</td>\n",
       "      <td>Controversial</td>\n",
       "    </tr>\n",
       "    <tr>\n",
       "      <th>3</th>\n",
       "      <td>KOI-1843.01</td>\n",
       "      <td>0</td>\n",
       "      <td>NaN</td>\n",
       "      <td>0.114</td>\n",
       "      <td>4.194525</td>\n",
       "      <td>0.0390</td>\n",
       "      <td>NaN</td>\n",
       "      <td>NaN</td>\n",
       "      <td>NaN</td>\n",
       "      <td>NaN</td>\n",
       "      <td>89.38</td>\n",
       "      <td>NaN</td>\n",
       "      <td>NaN</td>\n",
       "      <td>transit</td>\n",
       "      <td>NaN</td>\n",
       "      <td>NaN</td>\n",
       "      <td>19 00 03.14</td>\n",
       "      <td>+40 13 14.7</td>\n",
       "      <td>NaN</td>\n",
       "      <td>0.460</td>\n",
       "      <td>0.450</td>\n",
       "      <td>0.00</td>\n",
       "      <td>3584.0</td>\n",
       "      <td>NaN</td>\n",
       "      <td>Controversial</td>\n",
       "    </tr>\n",
       "    <tr>\n",
       "      <th>4</th>\n",
       "      <td>KOI-1843.02</td>\n",
       "      <td>0</td>\n",
       "      <td>NaN</td>\n",
       "      <td>0.071</td>\n",
       "      <td>6.356006</td>\n",
       "      <td>0.0520</td>\n",
       "      <td>NaN</td>\n",
       "      <td>NaN</td>\n",
       "      <td>NaN</td>\n",
       "      <td>NaN</td>\n",
       "      <td>88.24</td>\n",
       "      <td>NaN</td>\n",
       "      <td>NaN</td>\n",
       "      <td>transit</td>\n",
       "      <td>NaN</td>\n",
       "      <td>NaN</td>\n",
       "      <td>19 00 03.14</td>\n",
       "      <td>+40 13 14.7</td>\n",
       "      <td>NaN</td>\n",
       "      <td>0.460</td>\n",
       "      <td>0.450</td>\n",
       "      <td>0.00</td>\n",
       "      <td>3584.0</td>\n",
       "      <td>NaN</td>\n",
       "      <td>Controversial</td>\n",
       "    </tr>\n",
       "  </tbody>\n",
       "</table>\n",
       "</div>"
      ],
      "text/plain": [
       "  PlanetIdentifier  TypeFlag  PlanetaryMassJpt  RadiusJpt  PeriodDays  \\\n",
       "0      HD 143761 b         0            1.0450        NaN   39.845800   \n",
       "1      HD 143761 c         0            0.0790        NaN  102.540000   \n",
       "2      KOI-1843.03         0            0.0014      0.054    0.176891   \n",
       "3      KOI-1843.01         0               NaN      0.114    4.194525   \n",
       "4      KOI-1843.02         0               NaN      0.071    6.356006   \n",
       "\n",
       "   SemiMajorAxisAU  Eccentricity  PeriastronDeg  LongitudeDeg  \\\n",
       "0           0.2196         0.037          270.6           NaN   \n",
       "1           0.4123         0.050          190.0           NaN   \n",
       "2           0.0048           NaN            NaN           NaN   \n",
       "3           0.0390           NaN            NaN           NaN   \n",
       "4           0.0520           NaN            NaN           NaN   \n",
       "\n",
       "   AscendingNodeDeg  InclinationDeg  SurfaceTempK  AgeGyr DiscoveryMethod  \\\n",
       "0               NaN             NaN           NaN     NaN              RV   \n",
       "1               NaN             NaN           NaN     NaN              RV   \n",
       "2               NaN           72.00           NaN     NaN         transit   \n",
       "3               NaN           89.38           NaN     NaN         transit   \n",
       "4               NaN           88.24           NaN     NaN         transit   \n",
       "\n",
       "   DiscoveryYear LastUpdated RightAscension  Declination  DistFromSunParsec  \\\n",
       "0         2016.0    16/07/11       16 01 03    +33 18 13             17.236   \n",
       "1         2016.0    16/07/11       16 01 03    +33 18 13             17.236   \n",
       "2         2012.0    13/07/15    19 00 03.14  +40 13 14.7                NaN   \n",
       "3            NaN         NaN    19 00 03.14  +40 13 14.7                NaN   \n",
       "4            NaN         NaN    19 00 03.14  +40 13 14.7                NaN   \n",
       "\n",
       "   HostStarMassSlrMass  HostStarRadiusSlrRad  HostStarMetallicity  \\\n",
       "0                0.889                 1.362                -0.31   \n",
       "1                0.889                 1.362                -0.31   \n",
       "2                0.460                 0.450                 0.00   \n",
       "3                0.460                 0.450                 0.00   \n",
       "4                0.460                 0.450                 0.00   \n",
       "\n",
       "   HostStarTempK  HostStarAgeGyr    ListsPlanetIsOn  \n",
       "0         5627.0             NaN  Confirmed planets  \n",
       "1         5627.0             NaN  Confirmed planets  \n",
       "2         3584.0             NaN      Controversial  \n",
       "3         3584.0             NaN      Controversial  \n",
       "4         3584.0             NaN      Controversial  "
      ]
     },
     "execution_count": 2,
     "metadata": {},
     "output_type": "execute_result"
    }
   ],
   "source": [
    "import pandas as pd\n",
    "import matplotlib.pyplot as plt\n",
    "\n",
    "data = pd.read_csv('oec.csv')\n",
    "pd.set_option('display.max_columns', None)\n",
    "data.head()"
   ]
  },
  {
   "cell_type": "code",
   "execution_count": 3,
   "metadata": {},
   "outputs": [
    {
     "data": {
      "text/plain": [
       "Index(['PlanetIdentifier', 'TypeFlag', 'PlanetaryMassJpt', 'RadiusJpt',\n",
       "       'PeriodDays', 'SemiMajorAxisAU', 'Eccentricity', 'PeriastronDeg',\n",
       "       'LongitudeDeg', 'AscendingNodeDeg', 'InclinationDeg', 'SurfaceTempK',\n",
       "       'AgeGyr', 'DiscoveryMethod', 'DiscoveryYear', 'LastUpdated',\n",
       "       'RightAscension', 'Declination', 'DistFromSunParsec',\n",
       "       'HostStarMassSlrMass', 'HostStarRadiusSlrRad', 'HostStarMetallicity',\n",
       "       'HostStarTempK', 'HostStarAgeGyr', 'ListsPlanetIsOn'],\n",
       "      dtype='object')"
      ]
     },
     "execution_count": 3,
     "metadata": {},
     "output_type": "execute_result"
    }
   ],
   "source": [
    "a = data.columns\n",
    "a"
   ]
  },
  {
   "cell_type": "code",
   "execution_count": 4,
   "metadata": {},
   "outputs": [
    {
     "data": {
      "text/plain": [
       "0            RV\n",
       "1            RV\n",
       "2       transit\n",
       "3       transit\n",
       "4       transit\n",
       "         ...   \n",
       "3579         RV\n",
       "3580         RV\n",
       "3581         RV\n",
       "3582         RV\n",
       "3583    transit\n",
       "Name: DiscoveryMethod, Length: 3584, dtype: object"
      ]
     },
     "execution_count": 4,
     "metadata": {},
     "output_type": "execute_result"
    }
   ],
   "source": [
    "b = data.DiscoveryMethod\n",
    "b"
   ]
  },
  {
   "cell_type": "code",
   "execution_count": 67,
   "metadata": {},
   "outputs": [
    {
     "data": {
      "text/plain": [
       "DiscoveryMethod    5\n",
       "dtype: int64"
      ]
     },
     "execution_count": 67,
     "metadata": {},
     "output_type": "execute_result"
    }
   ],
   "source": [
    "df1 = pd.DataFrame({'DiscoveryMethod': ['RV','imaging','microlensing', 'timing', 'transit']}).agg({'DiscoveryMethod':'count'})\n",
    "df1"
   ]
  },
  {
   "cell_type": "code",
   "execution_count": 73,
   "metadata": {},
   "outputs": [
    {
     "data": {
      "text/html": [
       "<div>\n",
       "<style scoped>\n",
       "    .dataframe tbody tr th:only-of-type {\n",
       "        vertical-align: middle;\n",
       "    }\n",
       "\n",
       "    .dataframe tbody tr th {\n",
       "        vertical-align: top;\n",
       "    }\n",
       "\n",
       "    .dataframe thead th {\n",
       "        text-align: right;\n",
       "    }\n",
       "</style>\n",
       "<table border=\"1\" class=\"dataframe\">\n",
       "  <thead>\n",
       "    <tr style=\"text-align: right;\">\n",
       "      <th></th>\n",
       "      <th>PlanetIdentifier</th>\n",
       "      <th>DiscoveryMethod</th>\n",
       "    </tr>\n",
       "  </thead>\n",
       "  <tbody>\n",
       "    <tr>\n",
       "      <th>0</th>\n",
       "      <td>11 Com b</td>\n",
       "      <td>1</td>\n",
       "    </tr>\n",
       "    <tr>\n",
       "      <th>1</th>\n",
       "      <td>11 UMi b</td>\n",
       "      <td>1</td>\n",
       "    </tr>\n",
       "    <tr>\n",
       "      <th>2</th>\n",
       "      <td>14 And b</td>\n",
       "      <td>1</td>\n",
       "    </tr>\n",
       "    <tr>\n",
       "      <th>3</th>\n",
       "      <td>14 Her b</td>\n",
       "      <td>1</td>\n",
       "    </tr>\n",
       "    <tr>\n",
       "      <th>4</th>\n",
       "      <td>14 Her c</td>\n",
       "      <td>1</td>\n",
       "    </tr>\n",
       "    <tr>\n",
       "      <th>...</th>\n",
       "      <td>...</td>\n",
       "      <td>...</td>\n",
       "    </tr>\n",
       "    <tr>\n",
       "      <th>3577</th>\n",
       "      <td>tau Ceti e</td>\n",
       "      <td>1</td>\n",
       "    </tr>\n",
       "    <tr>\n",
       "      <th>3578</th>\n",
       "      <td>tau Ceti f</td>\n",
       "      <td>1</td>\n",
       "    </tr>\n",
       "    <tr>\n",
       "      <th>3579</th>\n",
       "      <td>tau Gem b</td>\n",
       "      <td>1</td>\n",
       "    </tr>\n",
       "    <tr>\n",
       "      <th>3580</th>\n",
       "      <td>wasp-92 b</td>\n",
       "      <td>1</td>\n",
       "    </tr>\n",
       "    <tr>\n",
       "      <th>3581</th>\n",
       "      <td>xi Aql b</td>\n",
       "      <td>1</td>\n",
       "    </tr>\n",
       "  </tbody>\n",
       "</table>\n",
       "<p>3582 rows × 2 columns</p>\n",
       "</div>"
      ],
      "text/plain": [
       "     PlanetIdentifier  DiscoveryMethod\n",
       "0            11 Com b                1\n",
       "1            11 UMi b                1\n",
       "2            14 And b                1\n",
       "3            14 Her b                1\n",
       "4            14 Her c                1\n",
       "...               ...              ...\n",
       "3577       tau Ceti e                1\n",
       "3578       tau Ceti f                1\n",
       "3579        tau Gem b                1\n",
       "3580        wasp-92 b                1\n",
       "3581         xi Aql b                1\n",
       "\n",
       "[3582 rows x 2 columns]"
      ]
     },
     "execution_count": 73,
     "metadata": {},
     "output_type": "execute_result"
    }
   ],
   "source": [
    "data_met = data.groupby('PlanetIdentifier', as_index = False).agg({'DiscoveryMethod':'count'})\n",
    "data_met"
   ]
  },
  {
   "cell_type": "code",
   "execution_count": 75,
   "metadata": {},
   "outputs": [
    {
     "data": {
      "text/plain": [
       "(                 PlanetaryMassJpt\n",
       " DiscoveryMethod                  \n",
       " RV                            688\n",
       " imaging                        45\n",
       " microlensing                   40\n",
       " timing                         22\n",
       " transit                       466,)"
      ]
     },
     "execution_count": 75,
     "metadata": {},
     "output_type": "execute_result"
    }
   ],
   "source": [
    "byMassmethod = data.groupby ('DiscoveryMethod').agg({'PlanetaryMassJpt': 'count'}),\n",
    "byMassmethod "
   ]
  },
  {
   "cell_type": "code",
   "execution_count": null,
   "metadata": {},
   "outputs": [],
   "source": []
  },
  {
   "cell_type": "code",
   "execution_count": 77,
   "metadata": {},
   "outputs": [
    {
     "ename": "AttributeError",
     "evalue": "'DataFrame' object has no attribute 'byMassmethod'",
     "output_type": "error",
     "traceback": [
      "\u001b[1;31m---------------------------------------------------------------------------\u001b[0m",
      "\u001b[1;31mAttributeError\u001b[0m                            Traceback (most recent call last)",
      "\u001b[1;32m<ipython-input-77-f72980a0460e>\u001b[0m in \u001b[0;36m<module>\u001b[1;34m\u001b[0m\n\u001b[1;32m----> 1\u001b[1;33m \u001b[0mplt\u001b[0m\u001b[1;33m.\u001b[0m\u001b[0mhist\u001b[0m\u001b[1;33m(\u001b[0m\u001b[0mdata\u001b[0m\u001b[1;33m.\u001b[0m\u001b[0mbyMassmethod\u001b[0m\u001b[1;33m.\u001b[0m\u001b[0mvalue_counts\u001b[0m\u001b[1;33m(\u001b[0m\u001b[1;33m)\u001b[0m\u001b[1;33m)\u001b[0m\u001b[1;33m\u001b[0m\u001b[1;33m\u001b[0m\u001b[0m\n\u001b[0m",
      "\u001b[1;32m~\\anaconda3\\lib\\site-packages\\pandas\\core\\generic.py\u001b[0m in \u001b[0;36m__getattr__\u001b[1;34m(self, name)\u001b[0m\n\u001b[0;32m   5137\u001b[0m             \u001b[1;32mif\u001b[0m \u001b[0mself\u001b[0m\u001b[1;33m.\u001b[0m\u001b[0m_info_axis\u001b[0m\u001b[1;33m.\u001b[0m\u001b[0m_can_hold_identifiers_and_holds_name\u001b[0m\u001b[1;33m(\u001b[0m\u001b[0mname\u001b[0m\u001b[1;33m)\u001b[0m\u001b[1;33m:\u001b[0m\u001b[1;33m\u001b[0m\u001b[1;33m\u001b[0m\u001b[0m\n\u001b[0;32m   5138\u001b[0m                 \u001b[1;32mreturn\u001b[0m \u001b[0mself\u001b[0m\u001b[1;33m[\u001b[0m\u001b[0mname\u001b[0m\u001b[1;33m]\u001b[0m\u001b[1;33m\u001b[0m\u001b[1;33m\u001b[0m\u001b[0m\n\u001b[1;32m-> 5139\u001b[1;33m             \u001b[1;32mreturn\u001b[0m \u001b[0mobject\u001b[0m\u001b[1;33m.\u001b[0m\u001b[0m__getattribute__\u001b[0m\u001b[1;33m(\u001b[0m\u001b[0mself\u001b[0m\u001b[1;33m,\u001b[0m \u001b[0mname\u001b[0m\u001b[1;33m)\u001b[0m\u001b[1;33m\u001b[0m\u001b[1;33m\u001b[0m\u001b[0m\n\u001b[0m\u001b[0;32m   5140\u001b[0m \u001b[1;33m\u001b[0m\u001b[0m\n\u001b[0;32m   5141\u001b[0m     \u001b[1;32mdef\u001b[0m \u001b[0m__setattr__\u001b[0m\u001b[1;33m(\u001b[0m\u001b[0mself\u001b[0m\u001b[1;33m,\u001b[0m \u001b[0mname\u001b[0m\u001b[1;33m:\u001b[0m \u001b[0mstr\u001b[0m\u001b[1;33m,\u001b[0m \u001b[0mvalue\u001b[0m\u001b[1;33m)\u001b[0m \u001b[1;33m->\u001b[0m \u001b[1;32mNone\u001b[0m\u001b[1;33m:\u001b[0m\u001b[1;33m\u001b[0m\u001b[1;33m\u001b[0m\u001b[0m\n",
      "\u001b[1;31mAttributeError\u001b[0m: 'DataFrame' object has no attribute 'byMassmethod'"
     ]
    }
   ],
   "source": [
    "plt.hist(data.byMassmethod.value_counts())"
   ]
  },
  {
   "cell_type": "code",
   "execution_count": 65,
   "metadata": {},
   "outputs": [
    {
     "ename": "TypeError",
     "evalue": "hist() missing 1 required positional argument: 'x'",
     "output_type": "error",
     "traceback": [
      "\u001b[1;31m---------------------------------------------------------------------------\u001b[0m",
      "\u001b[1;31mTypeError\u001b[0m                                 Traceback (most recent call last)",
      "\u001b[1;32m<ipython-input-65-85881ad87f6d>\u001b[0m in \u001b[0;36m<module>\u001b[1;34m\u001b[0m\n\u001b[1;32m----> 1\u001b[1;33m \u001b[0mplt\u001b[0m\u001b[1;33m.\u001b[0m\u001b[0mhist\u001b[0m\u001b[1;33m(\u001b[0m\u001b[1;33m)\u001b[0m\u001b[1;33m\u001b[0m\u001b[1;33m\u001b[0m\u001b[0m\n\u001b[0m",
      "\u001b[1;31mTypeError\u001b[0m: hist() missing 1 required positional argument: 'x'"
     ]
    }
   ],
   "source": [
    "()"
   ]
  },
  {
   "cell_type": "code",
   "execution_count": null,
   "metadata": {},
   "outputs": [],
   "source": []
  }
 ],
 "metadata": {
  "kernelspec": {
   "display_name": "Python 3",
   "language": "python",
   "name": "python3"
  },
  "language_info": {
   "codemirror_mode": {
    "name": "ipython",
    "version": 3
   },
   "file_extension": ".py",
   "mimetype": "text/x-python",
   "name": "python",
   "nbconvert_exporter": "python",
   "pygments_lexer": "ipython3",
   "version": "3.8.5"
  }
 },
 "nbformat": 4,
 "nbformat_minor": 4
}
